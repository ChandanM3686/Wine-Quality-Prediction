import pandas as pd
import numpy as np
import matplotlib.pyplot as plt
import seaborn as sns
from sklearn.model_selection import train_test_split
from sklearn.ensemble import RandomForestClassifier
from sklearn.metrics import accuracy_score
wine_dataset=pd.read_csv('WineQT.csv')
wine_dataset.shape
wine_dataset.head(5)
wine_dataset.isnull().sum()
wine_dataset.describe()
sns.catplot(x='quality',data=wine_dataset,kind='count')
correlation=wine_dataset.corr()
plt.figure(figsize=(10,10))
sns.heatmap(correlation,cbar=True,square=True,fmt='.if',annot=True,annot_kws={'size':8},cmap='Blues')
X=wine_dataset.drop('quality',axis=1)
print(X)
Y=wine_dataset['quality'].apply(lambda y_value: 1 if y_value>=7 else 0)
print(Y)
X_train,X_test,Y_train,Y_test=train_test_split(X,Y, test_size=0.2,random_state=3)
print(Y.shape,Y_train.shape,Y_test.shape)
model=RandomForestClassifier()
model.fit(X_train,Y_train)
X_test_prediction=model.predict(X_test)
test_data_accuracy=accuarcy=accuracy_score(X_test_prediction,Y_test)
print('Accuracy:',test_data_accuracy)
input_data=(6.7,0.58,0.08,1.8,0.09699999999999999,15.0,65.0,0.9959,3.28,0.54,9.2,5)
input_data_as_numpy_array=np.asarray(input_data)
input_data_reshaped=input_data_as_numpy_array.reshape(1,-1)
prediction=model.predict(input_data_reshaped)
print(prediction)
if (prediction[0]==1):
    print('Good quality')
else:
    print('Bad Quality')